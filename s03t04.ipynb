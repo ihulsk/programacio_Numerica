{
 "cells": [
  {
   "cell_type": "markdown",
   "id": "bd569dae",
   "metadata": {},
   "source": [
    "# S03 T04: Pràctica amb programació numèrica\n",
    "\n",
    "## Exercici 1\n",
    "Crea una funció que donat un Array d’una dimensió, et faci un resum estadístic bàsic de les dades. Si detecta que l’array té més d’una dimensió, ha de mostrar un missatge d’error."
   ]
  },
  {
   "cell_type": "code",
   "execution_count": 22,
   "id": "8e49623c",
   "metadata": {},
   "outputs": [
    {
     "name": "stdout",
     "output_type": "stream",
     "text": [
      "2\n",
      "ERROR: el array introuït té més d'una dimensió\n"
     ]
    }
   ],
   "source": [
    "import numpy as np\n",
    "\n",
    "vec = np.array([(10, 20, 30, 40, 50, 60, 70, 80, 90, 100), (10, 20, 30, 40, 50, 60, 70, 80, 90, 100)])\n",
    "\n",
    "# print(vec.ndim)\n",
    "\n",
    "def resum(array):\n",
    "    if array.ndim > 1:\n",
    "        print(\"ERROR: el array introuït té més d'una dimensió\")\n",
    "    else:\n",
    "        print(\"La suma dels elements del array és: \", array.sum(), \"\\n\",\n",
    "              \"El minim dels elements del array és: \", array.min(), \"\\n\",\n",
    "              \"El major valor dels elements del array és: \", array.max(), \"\\n\",\n",
    "              \"La mitjana (mean) dels elements del array és: \", array.mean(), \"\\n\",\n",
    "#              \"La suma total dels elements del array és: \", array.cumsum(axis=0), \"\\n\",\n",
    "#              \"La mitjana (median) dels elements del array és: \", array.median(), \"\\n\",\n",
    "#              \"El coeficient de correlació dels elements del array és: \", array.corrcoef(), \"\\n\",\n",
    "#              \"La desviació estàndard  dels elements del array és: \", array.std(b), \"\\n\",\n",
    "             )\n",
    "resum(vec)\n",
    "\n",
    "        "
   ]
  },
  {
   "cell_type": "markdown",
   "id": "d047a523",
   "metadata": {},
   "source": [
    "## Exercici 2\n",
    "Crea una funció que et generi un quadrat NxN de nombres aleatoris entre el 0 i el 100."
   ]
  },
  {
   "cell_type": "code",
   "execution_count": 15,
   "id": "3497ee11",
   "metadata": {},
   "outputs": [
    {
     "name": "stdout",
     "output_type": "stream",
     "text": [
      "Introdueix un nom nombre senser: 7\n",
      "[[82 46 78 61 96 18 35]\n",
      " [ 5 41 18 35 41 75 92]\n",
      " [34  2 63 67 76 18 52]\n",
      " [23 37 54 86 56 68 85]\n",
      " [86 24 35 77 35 85 16]\n",
      " [84 20  0 21 71 99 10]\n",
      " [ 6 47 46 46 42 27 94]]\n"
     ]
    }
   ],
   "source": [
    "from numpy import random\n",
    "\n",
    "def ranMat(num):\n",
    "    mat = random.randint(100, size = (num, num))\n",
    "    return mat\n",
    "\n",
    "\n",
    "num1 = int(input(\"Introdueix la mida de la matriu: \"))\n",
    "mat = ranMat(num1)\n",
    "print(mat)\n"
   ]
  },
  {
   "cell_type": "markdown",
   "id": "52fe3884",
   "metadata": {},
   "source": [
    "## Exercici 3\n",
    "Crea una funció que donada una taula de dues dimensions, et calculi els totals per fila i els totals per columna."
   ]
  },
  {
   "cell_type": "code",
   "execution_count": 28,
   "id": "790a5afd",
   "metadata": {},
   "outputs": [
    {
     "name": "stdout",
     "output_type": "stream",
     "text": [
      "La suma de les files de la taula és:  [416 307 312 409 358 305 308]\n",
      "La suma de les columnes de la taula és:  [320 217 294 393 417 390 384]\n"
     ]
    }
   ],
   "source": [
    "def sumTot(array):\n",
    "    if array.ndim == 2:\n",
    "        rowTot = np.sum(array, axis=1)\n",
    "        colTot = np.sum(array, axis=0)\n",
    "        return (rowTot, colTot)\n",
    "    else:\n",
    "        print(\"La taula introduïda no té dues dimensios. Si us plau reviseu-la\")\n",
    "        \n",
    "sumMat = sumTot(mat)\n",
    "\n",
    "print(\"La suma de les files de la taula és: \", sumMat[0])\n",
    "print(\"La suma de les columnes de la taula és: \", sumMat[1])"
   ]
  },
  {
   "cell_type": "markdown",
   "id": "7274449d",
   "metadata": {},
   "source": [
    "## Exercici 4\n",
    "Implementa manualment una funció que calculi el coeficient de correlació. Informa’t-en sobre els seus usos i interpretació."
   ]
  },
  {
   "cell_type": "code",
   "execution_count": 43,
   "id": "44b55c00",
   "metadata": {},
   "outputs": [],
   "source": [
    "# sources: \n",
    "# https://en.wikipedia.org/wiki/Correlation_coefficient\n",
    "# https://en.wikipedia.org/wiki/Pearson_correlation_coefficient\n",
    "# https://docs.scipy.org/doc/scipy/reference/generated/scipy.stats.pearsonr.html\n",
    "# https://realpython.com/numpy-scipy-pandas-correlation-python/#example-numpy-correlation-calculation\n",
    "\n",
    "# Coeficient de correlació per a dos vectors (arrays d'una dimensió)\n",
    "def corCoef(x,y):\n",
    "    if x.ndim == 1 and y.ndim == 1:\n",
    "        num = np.sum((x-np.mean(x))*(y-np.mean(y)))\n",
    "        den = np.sqrt(np.sum((x-np.mean(x))**2) * np.sum((y-np.mean(y))**2))\n",
    "        return (num/den)\n",
    "    else:\n",
    "        print(\"Error: algun dels arrays introduïts no té només una dimensió.\")\n"
   ]
  },
  {
   "cell_type": "code",
   "execution_count": 57,
   "id": "95f30967",
   "metadata": {},
   "outputs": [
    {
     "name": "stdout",
     "output_type": "stream",
     "text": [
      "0.2599283164032047\n",
      "0.25992831640320463\n",
      "0.2599283164032047\n"
     ]
    }
   ],
   "source": [
    "import scipy.stats\n",
    "\n",
    "# Misura el\n",
    "x = sumMat[0]\n",
    "y = sumMat[1]\n",
    "\n",
    "print(corCoef(x,y))\n",
    "\n",
    "# comparar amb metodes de altres libreries\n",
    "print(np.corrcoef(x, y)[1][0])\n",
    "\n",
    "print(scipy.stats.pearsonr(x, y)[0])"
   ]
  }
 ],
 "metadata": {
  "kernelspec": {
   "display_name": "Python 3",
   "language": "python",
   "name": "python3"
  },
  "language_info": {
   "codemirror_mode": {
    "name": "ipython",
    "version": 3
   },
   "file_extension": ".py",
   "mimetype": "text/x-python",
   "name": "python",
   "nbconvert_exporter": "python",
   "pygments_lexer": "ipython3",
   "version": "3.8.8"
  },
  "toc": {
   "base_numbering": 1,
   "nav_menu": {},
   "number_sections": true,
   "sideBar": true,
   "skip_h1_title": false,
   "title_cell": "Table of Contents",
   "title_sidebar": "Contents",
   "toc_cell": false,
   "toc_position": {},
   "toc_section_display": true,
   "toc_window_display": false
  }
 },
 "nbformat": 4,
 "nbformat_minor": 5
}
